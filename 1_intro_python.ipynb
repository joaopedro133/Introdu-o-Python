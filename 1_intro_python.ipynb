{
  "cells": [
    {
      "cell_type": "markdown",
      "metadata": {
        "id": "view-in-github",
        "colab_type": "text"
      },
      "source": [
        "<a href=\"https://colab.research.google.com/github/joaopedro133/Introdu-o-Python/blob/main/1_intro_python.ipynb\" target=\"_parent\"><img src=\"https://colab.research.google.com/assets/colab-badge.svg\" alt=\"Open In Colab\"/></a>"
      ]
    },
    {
      "cell_type": "markdown",
      "metadata": {
        "id": "Qt7-MMs1GDFl"
      },
      "source": [
        "# Bem-Vindo ao Mundo Python!"
      ]
    },
    {
      "cell_type": "markdown",
      "metadata": {
        "id": "CO0UdJiEGDFq"
      },
      "source": [
        "## Variáveis e Tipos\n",
        "* Variáveis são **Locais de Memória**;\n",
        "* Os nomes de variáveis devem ser **mnemônicos**, ou seja, de **fácil memorização**;\n",
        "* Variáveis em Python são **\"Case-sensitive\"** e devem escritas com letras minúsculas, sem qualquer tipo de acentuação gráfica;\n",
        "* Nomes compostos de variáveis devem ser separados por subtraço, por exemplo: nome_variavel_composta;\n",
        "* Python é uma linguagem *dinamicamente tipada*, logo, não informamos o tipo de dados durante a declaração de cada variável;\n",
        "\n",
        "### Tipos de Dados Padrão\n",
        "Os tipos de dados primitivos do Python podem ser classificados como: numéricos, sequências, conjuntos e mapeamentos.\n",
        "\n",
        "*Tipos Numéricos*\n",
        "\n",
        "| Nome    | Descrição                    |  Versão               |\n",
        "|:--------|:-----------------------------|:----------------------|\n",
        "| int     | Números Inteiros             | Todas                 |\n",
        "| long    | Números inteiros Longos      | Python 2.x (Somente)  |\n",
        "| float   | Números de Ponto Flutuante   | Todas                 |\n",
        "| complex | Números Complexos            | Todas                 |\n",
        "\n",
        "*Sequências*\n",
        "\n",
        "| Nome         | Descrição                                                  |  Versão               |\n",
        "|:-------------|:-----------------------------------------------------------|:----------------------|\n",
        "| str          | Cadeia de Caracteres (String)                              | Todas                 |\n",
        "| bytes        | Sequência de números inteiros no intervalo de 0 a 255      | Python 3.x (Somente)  |\n",
        "| byte array   | Semelhante ao tipo bytes, porém, mutáveis                  | Python 3.x (Somente)  |\n",
        "| list         | Lista de itens geralmente homogêneos e mutáveis            | Todas                 |\n",
        "| tuple        | Sequência de itens heterogêneos e imutáveis                | Todas                 |\n",
        "\n",
        "*Conjuntos*\n",
        "\n",
        "| Nome       | Descrição                               |  Versão                |\n",
        "|:-----------|:----------------------------------------|:-----------------------|\n",
        "| set        | coleção não ordenada de objetos únicos  | Python 2.6 ou Superior |\n",
        "| frozen set | Semelhante ao tipo set, porém, imutável | Python 2.6 ou Superior |\n",
        "\n",
        "*Mapeamentos*\n",
        "\n",
        "| Nome       | Descrição                               |  Versão                |\n",
        "|:-----------|:----------------------------------------|:-----------------------|\n",
        "| dict       | Dicionários ou Array Associativos       | Todas                  |\n",
        "\n",
        "\n",
        "#### Objetos Mutáveis X Objetos Imutáveis\n",
        "De modo geral, os tipos de dados em Python podem ser diferenciados como mutáveis e imutáveis.\n",
        "\n",
        "- **Objetos Mutáveis:** o conteúdo pode ser alterado após sua criação;\n",
        "- **Objetos Imutáveis:** o conteúdo **não pode ser alterado** após sua criação;\n",
        "\n",
        "| Tipos Mutáveis       | Tipos Imutáveis                         |\n",
        "|:---------------------|:----------------------------------------|\n",
        "| array                | int, float, complex                     |\n",
        "| bytearray            | str                                     |\n",
        "| list                 | bytes                                   |\n",
        "| set                  | tuple                                   |\n",
        "| dict                 | frozenset                               |\n",
        "| -                    | bool                                    |"
      ]
    },
    {
      "cell_type": "code",
      "execution_count": null,
      "metadata": {
        "id": "iVE5ekStGDFr"
      },
      "outputs": [],
      "source": [
        "# CONVERSÃO DE TIPO\n",
        "# Aprendendo Conversão de Tipo Com Exemplos\n",
        "\n",
        "# Números Inteiros\n",
        "valor_int_1 = int(2.7) \n",
        "print(valor_int_1) # Saída: 2   \n",
        "\n",
        "valor_int_2 = int(-3.9)\n",
        "print(valor_int_2) # Saída: -3   \n",
        "\n",
        "valor_int_3 = int(\"2\")\n",
        "print(valor_int_3) # Saída: 2  \n",
        "\n",
        "\n",
        "# Números de Ponto Flutuante\n",
        "valor_float_1 = float(7)\n",
        "print(valor_float_1) # Saída: 7.0\n",
        "\n",
        "valor_float_2 = float(\"4.5\")\n",
        "print(valor_float_2) # Saída: 4.5\n",
        "\n",
        "valor_float_4 = float(\"2.7E-2\")\n",
        "print(valor_float_4) # Saída: 0.027\n",
        "\n",
        "valor_float_5 = float(False)\n",
        "print(valor_float_5) # Saída: 0.0\n",
        "\n",
        "valor_float_6 = float(True)\n",
        "print(valor_float_6) # Saída: 1.0\n",
        "\n",
        "\n",
        "# Cadeia de Caracteres\n",
        "valor_string_1 = str(4.5)\n",
        "print(valor_string_1) # Saída: 4.5\n",
        "\n",
        "valor_string_2 = str([1, 2, 3, 4, 5])\n",
        "print(valor_string_2) # Saída: \"[1, 2, 3, 4, 5]\"\n",
        "\n",
        "\n",
        "# Tipos Lógicos (Booleanos)\n",
        "valor_bool_1 = bool(0)\n",
        "print(valor_bool_1) # Saída: False\n",
        "\n",
        "valor_bool_2 = bool(1)\n",
        "print(valor_bool_2) # Saída: True\n",
        "\n",
        "valor_bool_3 = bool([])\n",
        "print(valor_bool_3) # Saída: False - Lista Vazia\n",
        "\n",
        "valor_bool_4 = bool([False])\n",
        "print(valor_bool_4) # Saída: True - Lista Não Vazia\n",
        "\n",
        "valor_bool_5 = bool({})\n",
        "print(valor_bool_5) # Saída: False - Dicionário Vazio, o mesmo para Tupla\n",
        "\n",
        "valor_bool_6 = bool(\"\")\n",
        "print(valor_bool_6) # Saída: False - String Vazia\n",
        "\n",
        "valor_bool_7 = bool(\" \")\n",
        "print(valor_bool_7) # Saída: True - String Não Vazia\n",
        "\n",
        "valor_bool_8 = bool(None)\n",
        "print(valor_bool_8) # Saída: False\n",
        "\n",
        "valor_bool_9 = bool(len)\n",
        "print(valor_bool_9) # Saída: True\n",
        "\n",
        "# Listas e Conjuntos\n",
        "conjunto = set([1, 2])\n",
        "lista = list(conjunto)\n",
        "print(conjunto) # Saída: {1, 2}\n",
        "print(lista)    # Saída: [1, 2]\n",
        "\n",
        "valor_lista_1 = list({0: \"Python\", 1: \"R\"}) # dict: Lista de chaves\n",
        "print(valor_lista_1) # Saída: [0, 1]\n",
        "\n",
        "tupla = tuple(lista)\n",
        "print(tupla) # Saída: (1, 2)\n",
        "\n",
        "valor_lista_2 = list(\"ABC\")\n",
        "print(valor_lista_2) # Saída: ['A', 'B', 'C']"
      ]
    },
    {
      "cell_type": "markdown",
      "metadata": {
        "id": "b0cOZT3FGDFu"
      },
      "source": [
        "## Exercício 1\n",
        "*Calculando o IMC*\n",
        "\n",
        "O Índice de Massa Corporal (IMC) é uma medida internacional usada para calcular se uma pessoa está em seu peso ideal.\n",
        "O cálculo do IMC é determinado pela divisão da massa do indivíduo em quilogramas pelo quadrado de sua altura em metros.\n",
        "\n",
        "\n",
        "\n",
        "$$IMC=\\frac{massa}{(altura * altura)}$$\n",
        "\n",
        "\n",
        "\n",
        "Escreva um programa que leia do usuário sua altura e peso e calcule o seu IMC.\n"
      ]
    },
    {
      "cell_type": "code",
      "execution_count": null,
      "metadata": {
        "colab": {
          "base_uri": "https://localhost:8080/"
        },
        "id": "C538p64XGDFv",
        "outputId": "dd2dd011-2e35-4aa2-a07a-fafde9bf674d"
      },
      "outputs": [
        {
          "output_type": "stream",
          "name": "stdout",
          "text": [
            "altura:1.59\n",
            "peso;53\n",
            "IMC:52.99999999999999\n"
          ]
        }
      ],
      "source": [
        "# TODO: Complete o Código Abaixo\n",
        "altura = float(input(\"altura:\"));\n",
        "peso = float(input(\"peso;\"));\n",
        "\n",
        "IMC = peso / altura * altura\n",
        "print(\"IMC:\"+ str(IMC));"
      ]
    },
    {
      "cell_type": "markdown",
      "metadata": {
        "id": "r3qeUdV1GDFw"
      },
      "source": [
        "## Operadores\n",
        "\n",
        "*Operadores Numéricos*\n",
        "\n",
        "| Operador | Descrição       |\n",
        "|:---------|:----------------|\n",
        "| +        | Adição          |\n",
        "| -        | Subtração       |\n",
        "| *        | Multiplicação   |\n",
        "| /        | Divisão         |\n",
        "| **       | Expoente        |\n",
        "| %        | Módulo          |\n",
        "| //       | Divisão de Piso |\n",
        "\n",
        "\n",
        "*Operadores de Comparação*\n",
        "\n",
        "| Operador | Descrição       |\n",
        "|:---------|:----------------|\n",
        "| ==       | Igual           |\n",
        "| !=       | Diferente       |\n",
        "| >        | Maior           |\n",
        "| <        | Menor           |\n",
        "| >=       | Maior Igual     |\n",
        "| <=       | Menor Igual     |\n",
        "\n",
        "\n",
        "*Operadores Lógicos*\n",
        "\n",
        "| Operador | Descrição       |\n",
        "|:---------|:----------------|\n",
        "| and      | AND lógico      |\n",
        "| or       | OR lógico       |\n",
        "| not      | NOT lógico      |\n",
        "\n",
        "*Caracteres Especiais*\n",
        "\n",
        "| Operador | Descrição       |\n",
        "|:---------|:----------------|\n",
        "| #        | Comentário      |\n",
        "| \\n       | Nova Linha      |\n"
      ]
    },
    {
      "cell_type": "markdown",
      "metadata": {
        "id": "tbYYCiTeGDFw"
      },
      "source": [
        "## Exercícios"
      ]
    },
    {
      "cell_type": "markdown",
      "metadata": {
        "id": "PXR3GqtEGDFx"
      },
      "source": [
        "1. Escreva um algoritmo que imprima na tela: Olá Mundo!"
      ]
    },
    {
      "cell_type": "code",
      "execution_count": null,
      "metadata": {
        "colab": {
          "base_uri": "https://localhost:8080/"
        },
        "id": "x_lEWmWUGDFy",
        "outputId": "4d0cbdf9-d349-4502-c94b-a68f0a247404"
      },
      "outputs": [
        {
          "output_type": "stream",
          "name": "stdout",
          "text": [
            "Olá mundo\n"
          ]
        }
      ],
      "source": [
        "print(\"Olá mundo\");"
      ]
    },
    {
      "cell_type": "markdown",
      "metadata": {
        "id": "3cW01LhAGDFy"
      },
      "source": [
        "2. Escreva um programa que imprima seu nome na tela."
      ]
    },
    {
      "cell_type": "code",
      "execution_count": null,
      "metadata": {
        "colab": {
          "base_uri": "https://localhost:8080/"
        },
        "id": "Gq1ltidqGDFz",
        "outputId": "a1dca2d0-0e79-4a30-abcf-68b96cafc213"
      },
      "outputs": [
        {
          "output_type": "stream",
          "name": "stdout",
          "text": [
            "nome:João Pedro\n",
            "João Pedro\n"
          ]
        }
      ],
      "source": [
        "nome = str(input(\"nome:\"));\n",
        "print(nome)"
      ]
    },
    {
      "cell_type": "markdown",
      "metadata": {
        "id": "jIPcLdt3GDFz"
      },
      "source": [
        "3. O que o código a seguir imprime?\n",
        "\n",
        "```python\n",
        "print(\"*\\n**\\n***\\n****\\n*****\")\n",
        "```"
      ]
    },
    {
      "cell_type": "code",
      "execution_count": null,
      "metadata": {
        "colab": {
          "base_uri": "https://localhost:8080/"
        },
        "id": "IWxunVqqGDFz",
        "outputId": "de13b7c1-70d9-4309-a11c-12527668ae15"
      },
      "outputs": [
        {
          "output_type": "stream",
          "name": "stdout",
          "text": [
            "*\n",
            "**\n",
            "***\n",
            "****\n",
            "*****\n"
          ]
        }
      ],
      "source": [
        "print(\"*\\n**\\n***\\n****\\n*****\")"
      ]
    },
    {
      "cell_type": "markdown",
      "metadata": {
        "id": "rNKVd4tBGDF0"
      },
      "source": [
        "4. O que aparece na janela do console, quando cada uma das instruções abaixo são executadas, para: x = 2 e y = 3? Execute cada uma das linhas abaixos e, se necessário, faça os devidos ajustes no código.\n",
        "    1. *print(“x = ” + x);*\n",
        "    2. *print(“O valor de x + x é ” + (x + x));*\n",
        "    3. *print(“x = ”);*\n",
        "    4. *print((x + y) + “ = “ + (y + x));*\n"
      ]
    },
    {
      "cell_type": "code",
      "execution_count": null,
      "metadata": {
        "colab": {
          "base_uri": "https://localhost:8080/"
        },
        "id": "AceStDbnGDF0",
        "outputId": "377021ce-bab4-4693-ca36-033b4663e359"
      },
      "outputs": [
        {
          "output_type": "stream",
          "name": "stdout",
          "text": [
            "x = 2\n",
            "O valor de x + x é 4\n",
            "x =\n",
            "x + y = y + x\n"
          ]
        }
      ],
      "source": [
        "x = 2\n",
        "y = 3\n",
        "print('x = ' + str(x));\n",
        "print(\"O valor de x + x é \" + str(x + x));\n",
        "print('x =');\n",
        "print((\"x + y\") + \" = \" + (\"y + x\"));\n",
        "\n",
        "\n",
        "\n",
        "\n"
      ]
    },
    {
      "cell_type": "markdown",
      "metadata": {
        "id": "HcXA0BxyGDF0"
      },
      "source": [
        "5. Escreva um algoritmo que imprima na tela a seguinte mensagem:\n",
        "\n",
        "> A programação é aprendida escrevendo programas - \n",
        "> Brian Kernighan\n"
      ]
    },
    {
      "cell_type": "code",
      "execution_count": null,
      "metadata": {
        "colab": {
          "base_uri": "https://localhost:8080/"
        },
        "id": "vPCfgLLzGDF1",
        "outputId": "b6611736-68fa-4b3c-ff10-7bff77247112"
      },
      "outputs": [
        {
          "output_type": "stream",
          "name": "stdout",
          "text": [
            "A programação é aprendida escrevendo programas - Brian Kernighan\n"
          ]
        }
      ],
      "source": [
        "print(\"A programação é aprendida escrevendo programas - Brian Kernighan\")"
      ]
    },
    {
      "cell_type": "markdown",
      "metadata": {
        "id": "VDnQ2X2cGDF1"
      },
      "source": [
        "6. Crie um algoritmo que imprima o produto entre os números 25 e 27"
      ]
    },
    {
      "cell_type": "code",
      "execution_count": null,
      "metadata": {
        "colab": {
          "base_uri": "https://localhost:8080/"
        },
        "id": "WmrLw-AQGDF1",
        "outputId": "1cf13eac-8cc1-4bf5-aebf-73fb802a0fb8"
      },
      "outputs": [
        {
          "output_type": "stream",
          "name": "stdout",
          "text": [
            "675\n"
          ]
        }
      ],
      "source": [
        "print(25 * 27)"
      ]
    },
    {
      "cell_type": "markdown",
      "metadata": {
        "id": "7zddG2sXGDF1"
      },
      "source": [
        "7. Crie um algoritmo que imprima a média aritmética entre os números 4, 12, 15."
      ]
    },
    {
      "cell_type": "code",
      "execution_count": null,
      "metadata": {
        "colab": {
          "base_uri": "https://localhost:8080/"
        },
        "id": "NLT0iY_PGDF2",
        "outputId": "478ca951-80d7-46d6-c4f6-20f4b56e8384"
      },
      "outputs": [
        {
          "output_type": "stream",
          "name": "stdout",
          "text": [
            "17.0\n",
            "5.666666666666667\n"
          ]
        }
      ],
      "source": [
        "soma = float(4 + 12 + 1)\n",
        "print(soma)\n",
        "média = soma / 3\n",
        "print(média)\n",
        "\n",
        "\n"
      ]
    },
    {
      "cell_type": "markdown",
      "metadata": {
        "id": "r0ibBM-fGDF2"
      },
      "source": [
        "8. Faça um programa que leia um número inteiro e mostre-o na tela da seguinte forma: \n",
        "\n",
        "> O número inteiro digitado foi 4."
      ]
    },
    {
      "cell_type": "code",
      "execution_count": null,
      "metadata": {
        "id": "vjMaP7VyGDF2",
        "colab": {
          "base_uri": "https://localhost:8080/"
        },
        "outputId": "bae06dee-f4f8-415d-b13a-baff780f5dbc"
      },
      "outputs": [
        {
          "name": "stdout",
          "output_type": "stream",
          "text": [
            " O número digitado foi: 4\n"
          ]
        }
      ],
      "source": [
        "float(input(\" O número digitado foi: \"));"
      ]
    },
    {
      "cell_type": "markdown",
      "metadata": {
        "id": "f4AGzzj9GDF2"
      },
      "source": [
        "9. Faça um programa que leia e imprima dois números inteiros na tela."
      ]
    },
    {
      "cell_type": "code",
      "execution_count": null,
      "metadata": {
        "id": "XqsrcHkOGDF2",
        "colab": {
          "base_uri": "https://localhost:8080/"
        },
        "outputId": "b8fe9a07-a341-429f-df0c-16020c65f41c"
      },
      "outputs": [
        {
          "output_type": "stream",
          "name": "stdout",
          "text": [
            "primeiro número: 727\n",
            "segundo número: 85\n",
            "Os números são:\n",
            "727 85\n"
          ]
        }
      ],
      "source": [
        "a = int(input(\"primeiro número: \"));\n",
        "b = int(input(\"segundo número: \"));\n",
        "print(\"Os números são:\");\n",
        "print(a, b);"
      ]
    },
    {
      "cell_type": "markdown",
      "metadata": {
        "id": "ACwb-P7IGDF3"
      },
      "source": [
        "10. Faça um programa que leia um número inteiro e imprima seu número sucessor e antecessor."
      ]
    },
    {
      "cell_type": "code",
      "execution_count": null,
      "metadata": {
        "id": "5jaIQJi8GDF3",
        "colab": {
          "base_uri": "https://localhost:8080/"
        },
        "outputId": "8a06727a-b53f-437c-bf5d-6ed03a2b62f2"
      },
      "outputs": [
        {
          "output_type": "stream",
          "name": "stdout",
          "text": [
            "Digite um número: 100\n",
            "Sucessor:101\n",
            "Antecessor:99\n"
          ]
        }
      ],
      "source": [
        "num = int(input(\"Digite um número: \"))\n",
        "s = num + 1\n",
        "sub = num - 1\n",
        "print(\"Sucessor:\"+ str(s));\n",
        "print(\"Antecessor:\"+ str(sub));\n"
      ]
    },
    {
      "cell_type": "markdown",
      "metadata": {
        "id": "Q8xPfbRGGDF3"
      },
      "source": [
        "11. Faça um programa que leia o nome, endereço e telefone de um usuário e imprima na tela."
      ]
    },
    {
      "cell_type": "code",
      "execution_count": null,
      "metadata": {
        "id": "hGC20vQFGDF3",
        "colab": {
          "base_uri": "https://localhost:8080/"
        },
        "outputId": "c4c86e87-d2d2-4a02-eb6b-30888bcf8bf0"
      },
      "outputs": [
        {
          "output_type": "stream",
          "name": "stdout",
          "text": [
            "Nome: João\n",
            "Endereço: Rua Bahia\n",
            "Telefone: 9999999\n",
            "Nome:João\n",
            "Endereço:Rua Bahia\n",
            "Telefone:9999999\n"
          ]
        }
      ],
      "source": [
        "n = (input(\"Nome: \"))\n",
        "end = input(\"Endereço: \")\n",
        "tel = int(input(\"Telefone: \"))\n",
        "print(\"Nome:\"+ str(n));\n",
        "print(\"Endereço:\"+ str(end));\n",
        "print(\"Telefone:\"+ str(tel));"
      ]
    },
    {
      "cell_type": "markdown",
      "metadata": {
        "id": "NSSn19GNGDF3"
      },
      "source": [
        "12. Faça um programa que leia e multiplique dois números inteiros."
      ]
    },
    {
      "cell_type": "code",
      "execution_count": null,
      "metadata": {
        "id": "oRr5GNuHGDF3",
        "colab": {
          "base_uri": "https://localhost:8080/"
        },
        "outputId": "6bf4ac19-7f96-456d-8b8c-1435201cf86e"
      },
      "outputs": [
        {
          "output_type": "stream",
          "name": "stdout",
          "text": [
            "Número: 2\n",
            "Número: 5\n",
            "Resultado: 10\n"
          ]
        }
      ],
      "source": [
        "n1 = int(input(\"Número: \"))\n",
        "n2 = int(input(\"Número: \"))\n",
        "print(\"Resultado: \"+ str(n1 * n2))"
      ]
    },
    {
      "cell_type": "markdown",
      "metadata": {
        "id": "WohcM19_GDF4"
      },
      "source": [
        "13. Faça um programa que leia um número real e imprima a terça parte deste número."
      ]
    },
    {
      "cell_type": "code",
      "execution_count": null,
      "metadata": {
        "id": "YjsAeIZIGDF4",
        "colab": {
          "base_uri": "https://localhost:8080/"
        },
        "outputId": "5cdbd38b-f75b-43f6-d32d-fe53acb5e469"
      },
      "outputs": [
        {
          "output_type": "stream",
          "name": "stdout",
          "text": [
            "Número: 15\n",
            "Resultado: 5.0\n"
          ]
        }
      ],
      "source": [
        "n1 = int(input(\"Número: \"))\n",
        "div = n1 / 3\n",
        "print(\"Resultado: \"+ str(div))\n"
      ]
    },
    {
      "cell_type": "markdown",
      "metadata": {
        "id": "JXxz5SNcGDF4"
      },
      "source": [
        "14. Faça um programa que leia dois números inteiros e imprima o dividendo, divisor, quociente e resto da divisão"
      ]
    },
    {
      "cell_type": "code",
      "execution_count": null,
      "metadata": {
        "id": "Ql59sC4YGDF4",
        "colab": {
          "base_uri": "https://localhost:8080/"
        },
        "outputId": "9a95c2c8-677e-4383-80a2-a49790040f91"
      },
      "outputs": [
        {
          "output_type": "stream",
          "name": "stdout",
          "text": [
            "Digite o primeiro numero: 10\n",
            "Digite o segundo numero: 2\n",
            "O dividendo é:  10\n",
            "O divisor é:  2\n",
            "O quociente é:  5.0\n",
            "E o resto é:  0\n"
          ]
        }
      ],
      "source": [
        "num1 = int(input(\"Digite o primeiro numero: \"))\n",
        "num2 = int(input(\"Digite o segundo numero: \"))\n",
        "\n",
        "dividendo = num1\n",
        "divisor = num2\n",
        "quociente = dividendo/divisor\n",
        "resto = dividendo%divisor\n",
        "\n",
        "print(\"O dividendo é: \", dividendo)\n",
        "print(\"O divisor é: \", divisor)\n",
        "print(\"O quociente é: \", quociente)\n",
        "print(\"E o resto é: \", resto)"
      ]
    },
    {
      "cell_type": "markdown",
      "metadata": {
        "id": "rsdUsue3GDF4"
      },
      "source": [
        "15. Escreva um programa que solicite do usuário dois números, e imprima o resultado da soma, subtração, multiplicação e divisão."
      ]
    },
    {
      "cell_type": "code",
      "execution_count": null,
      "metadata": {
        "id": "aWJm7XjeGDF4",
        "colab": {
          "base_uri": "https://localhost:8080/"
        },
        "outputId": "8040a96c-f6ee-46af-b742-0aff56a08a53"
      },
      "outputs": [
        {
          "output_type": "stream",
          "name": "stdout",
          "text": [
            "Digite o primeiro numero: 7\n",
            "Digite o segundo numero: 8\n",
            "Soma:  15\n",
            "Subtração:  -1\n",
            "Multiplicação:  56\n",
            "Divisão:  0.875\n"
          ]
        }
      ],
      "source": [
        "num1 = int(input(\"Digite o primeiro numero: \"))\n",
        "num2 = int(input(\"Digite o segundo numero: \"))\n",
        "\n",
        "soma = num1 + num2\n",
        "sub = num1 - num2\n",
        "mul = num1 * num2\n",
        "div = num1 / num2\n",
        "\n",
        "print(\"Soma: \", soma)\n",
        "print(\"Subtração: \", sub)\n",
        "print(\"Multiplicação: \", mul)\n",
        "print(\"Divisão: \", div)"
      ]
    },
    {
      "cell_type": "markdown",
      "metadata": {
        "id": "we-Ei7L5GDF5"
      },
      "source": [
        "16. Faça um programa que leia quatro números inteiros, calcule e mostre a soma desses números."
      ]
    },
    {
      "cell_type": "code",
      "execution_count": null,
      "metadata": {
        "id": "WQg8xHwFGDF5",
        "colab": {
          "base_uri": "https://localhost:8080/"
        },
        "outputId": "9f74fc6c-e70b-4007-fa7e-8b41754d2841"
      },
      "outputs": [
        {
          "output_type": "stream",
          "name": "stdout",
          "text": [
            "Digite o primeiro numero: 1\n",
            "Digite o segundo numero: 1\n",
            "Digite o primeiro numero: 1\n",
            "Digite o segundo numero: 1\n",
            "Resultado da soma:  4\n"
          ]
        }
      ],
      "source": [
        "num1 = int(input(\"Digite o primeiro numero: \"))\n",
        "num2 = int(input(\"Digite o segundo numero: \"))\n",
        "num3 = int(input(\"Digite o primeiro numero: \"))\n",
        "num4 = int(input(\"Digite o segundo numero: \"))\n",
        "soma = num1 + num2 + num3 + num4\n",
        "print(\"Resultado da soma: \", soma)\n"
      ]
    },
    {
      "cell_type": "markdown",
      "metadata": {
        "id": "iiVN9jWbGDF5"
      },
      "source": [
        "17. Faça um programa que receba três notas, calcule e mostre a média aritmética."
      ]
    },
    {
      "cell_type": "code",
      "execution_count": null,
      "metadata": {
        "id": "WYrwYcWFGDF5",
        "colab": {
          "base_uri": "https://localhost:8080/"
        },
        "outputId": "7680e1ed-bb9c-4147-8252-cef5aaa86b53"
      },
      "outputs": [
        {
          "output_type": "stream",
          "name": "stdout",
          "text": [
            "Digite o primeiro numero: 9\n",
            "Digite o segundo numero: 3\n",
            "Digite o primeiro numero: 6\n",
            "Média da notas:  6.0\n"
          ]
        }
      ],
      "source": [
        "n1 = int(input(\"Digite o primeiro numero: \"))\n",
        "n2 = int(input(\"Digite o segundo numero: \"))\n",
        "n3 = int(input(\"Digite o primeiro numero: \"))\n",
        "m = (n1 + n2 + n3) / 3\n",
        "print(\"Média da notas: \", m)"
      ]
    },
    {
      "cell_type": "markdown",
      "metadata": {
        "id": "dN9euOfDGDF5"
      },
      "source": [
        "18. Faça um programa que receba três notas e seus respectivos pesos, calcule e mostre a média ponderada."
      ]
    },
    {
      "cell_type": "code",
      "execution_count": null,
      "metadata": {
        "id": "9c3MysCNGDF5",
        "colab": {
          "base_uri": "https://localhost:8080/"
        },
        "outputId": "370f4607-ba01-4bcd-8671-79e9020e6e23"
      },
      "outputs": [
        {
          "output_type": "stream",
          "name": "stdout",
          "text": [
            "Nota 1:10\n",
            "Peso 1:10\n",
            "Nota 2:4\n",
            "Peso 2:10\n",
            "Nota 3:2\n",
            "Peso 3:10\n",
            "Média:  5.333333333333333\n"
          ]
        }
      ],
      "source": [
        "nota1 = float(input(\"Nota 1:\"))\n",
        "peso1 = float(input(\"Peso 1:\"))\n",
        " \n",
        "nota2 = float(input(\"Nota 2:\"))\n",
        "peso2 = float(input(\"Peso 2:\"))\n",
        "\n",
        "nota3 = float(input(\"Nota 3:\"))\n",
        "peso3 = float(input(\"Peso 3:\"))\n",
        "\n",
        "media = (nota1*peso1 + nota2*peso2 + nota3*peso3) /(peso1+peso2+peso3)\n",
        "print(\"Média: \", media)\n",
        " \n"
      ]
    },
    {
      "cell_type": "markdown",
      "metadata": {
        "id": "VEr2Tl-7GDF6"
      },
      "source": [
        "19. Faça um programa que receba o salário de um funcionário, calcule e mostre o novo salário, sabendo-se que este sofreu um aumento de 25%."
      ]
    },
    {
      "cell_type": "code",
      "execution_count": null,
      "metadata": {
        "id": "ZkRJ27CvGDF6",
        "colab": {
          "base_uri": "https://localhost:8080/"
        },
        "outputId": "0df4a452-63b5-489e-c1ad-65baa847e07b"
      },
      "outputs": [
        {
          "output_type": "stream",
          "name": "stdout",
          "text": [
            "Salário atual: 1000\n",
            "Salário novo:  1250.0\n"
          ]
        }
      ],
      "source": [
        "sa = float(input(\"Salário atual: \"))\n",
        "sn = sa + (sa * 0.25)\n",
        "print(\"Salário novo: \", sn)"
      ]
    },
    {
      "cell_type": "markdown",
      "metadata": {
        "id": "oV9CA0DuGDF6"
      },
      "source": [
        "20. Faça um programa que receba o salário de um funcionário e o percentual de aumento, calcule e mostre o valor do aumento e o novo salário. "
      ]
    },
    {
      "cell_type": "code",
      "execution_count": null,
      "metadata": {
        "id": "iHpNgod1GDF6",
        "colab": {
          "base_uri": "https://localhost:8080/"
        },
        "outputId": "f439118e-93e9-4d45-b336-7bc918dd3079"
      },
      "outputs": [
        {
          "output_type": "stream",
          "name": "stdout",
          "text": [
            "Salário:1000\n",
            "Aumento:250\n",
            "Salário com aumento:  1250.0\n"
          ]
        }
      ],
      "source": [
        "sa = float(input(\"Salário:\"))\n",
        "au = float(input(\"Aumento:\"))\n",
        "ns = sa + au\n",
        "print(\"Salário com aumento: \", ns)\n",
        "\n"
      ]
    },
    {
      "cell_type": "markdown",
      "metadata": {
        "id": "LC-A7QJEGDF6"
      },
      "source": [
        "21. Faça um programa que receba o salário base de um funcionário, calcule e mostre o salário a receber, sabendo-se que o funcionário tem gratificação de 5% sobre o salário base e paga imposto de 7% também sobre o salário base."
      ]
    },
    {
      "cell_type": "code",
      "execution_count": null,
      "metadata": {
        "id": "Bvf8hh6ZGDF6",
        "colab": {
          "base_uri": "https://localhost:8080/"
        },
        "outputId": "f88eda5e-42c5-4bd9-8b0f-8e91ee89961b"
      },
      "outputs": [
        {
          "output_type": "stream",
          "name": "stdout",
          "text": [
            "Salário:1000\n",
            "Salário:  980.0\n"
          ]
        }
      ],
      "source": [
        "sa = float(input(\"Salário:\"))\n",
        "gr = sa + (sa * 0.05) - (sa * 0.07)\n",
        "print(\"Salário: \", gr)"
      ]
    },
    {
      "cell_type": "markdown",
      "metadata": {
        "id": "kExG6cDxGDF6"
      },
      "source": [
        "22. Faça um programa que receba o salário base de um funcionário, calcule e mostre seu salário a receber, sabendo-se que o funcionário tem gratificação de R$ 50,00 e paga imposto de 10% sobre o salário base."
      ]
    },
    {
      "cell_type": "code",
      "execution_count": null,
      "metadata": {
        "id": "84RaXgv1GDF7",
        "colab": {
          "base_uri": "https://localhost:8080/"
        },
        "outputId": "bec56d95-a0d8-4269-975e-c41115659095"
      },
      "outputs": [
        {
          "output_type": "stream",
          "name": "stdout",
          "text": [
            "Salário:1000\n",
            "Salário:  950.0\n"
          ]
        }
      ],
      "source": [
        "sa = float(input(\"Salário:\"))\n",
        "gr = sa + (50) - (sa * 0.1)\n",
        "print(\"Salário: \", gr)\n"
      ]
    },
    {
      "cell_type": "markdown",
      "metadata": {
        "id": "px0npmqjGDF7"
      },
      "source": [
        "23. Faça um programa que receba o valor de um depósito e o valor da taxa de juros, calcule e mostre o valor do rendimento e o valor total depois do rendimento."
      ]
    },
    {
      "cell_type": "code",
      "execution_count": null,
      "metadata": {
        "id": "5Y0X5KtWGDF7",
        "colab": {
          "base_uri": "https://localhost:8080/"
        },
        "outputId": "df601f2a-2d63-4dff-8f69-0696c8bbf21a"
      },
      "outputs": [
        {
          "output_type": "stream",
          "name": "stdout",
          "text": [
            "Deposito:1000\n",
            "Juros:10\n",
            "Rendimento:  100.0\n",
            "Total:  1100.0\n"
          ]
        }
      ],
      "source": [
        "de = float(input(\"Deposito:\"))\n",
        "ju = float(input(\"Juros:\"))\n",
        "re = de * ( ju /100)\n",
        "vd = de + re\n",
        "print(\"Rendimento: \", re)\n",
        "print(\"Total: \", vd)\n"
      ]
    },
    {
      "cell_type": "markdown",
      "metadata": {
        "id": "X9DSOfGfGDF7"
      },
      "source": [
        "24. Faça um programa que calcule e mostre a área de um triângulo. Sabe-se que: \n",
        "> Área = (base * altura) / 2."
      ]
    },
    {
      "cell_type": "code",
      "execution_count": null,
      "metadata": {
        "id": "ibtqFBS-GDF7",
        "colab": {
          "base_uri": "https://localhost:8080/"
        },
        "outputId": "47a8934d-f981-4940-c408-1e3991e4b7c4"
      },
      "outputs": [
        {
          "output_type": "stream",
          "name": "stdout",
          "text": [
            "Área:  75.0\n"
          ]
        }
      ],
      "source": [
        "a = (10 * 15) / 2\n",
        "print(\"Área: \", a)"
      ]
    },
    {
      "cell_type": "markdown",
      "metadata": {
        "id": "S8ZAMK5qGDF7"
      },
      "source": [
        "25. Escreva um programa que receba como entrada o raio de um círculo e imprima o diâmetro, a circunferência e a área. Para isso, utilize as fórmulas: diâmetro = 2r; circunferência = 2πr, área = πr²."
      ]
    },
    {
      "cell_type": "code",
      "execution_count": null,
      "metadata": {
        "id": "_COIFdD4GDF8",
        "colab": {
          "base_uri": "https://localhost:8080/"
        },
        "outputId": "cb5d40df-c932-4787-b2d5-b56a3d7df7ad"
      },
      "outputs": [
        {
          "output_type": "stream",
          "name": "stdout",
          "text": [
            "Raio:10\n",
            "Diâmetro:  100.0\n",
            "Circunferência:  62.800000000000004\n",
            "Área:  314.0\n"
          ]
        }
      ],
      "source": [
        "ac = float(input(\"Raio:\"))\n",
        "di = ac * ac\n",
        "ci = (2 * 3.14) * ac\n",
        "ar = 3.14 * (ac * ac)\n",
        "print(\"Diâmetro: \", di)\n",
        "print(\"Circunferência: \", ci)\n",
        "print(\"Área: \", ar)"
      ]
    },
    {
      "cell_type": "markdown",
      "metadata": {
        "id": "alx4avsFGDF8"
      },
      "source": [
        "26. Faça um programa que receba um número positivo e maior que zero, calcule e mostre:\n",
        "    1. o número digitado ao quadrado;\n",
        "    2. o número digitado ao cubo;\n",
        "    3. a raiz quadrada do número digitado.\n"
      ]
    },
    {
      "cell_type": "code",
      "execution_count": null,
      "metadata": {
        "id": "iqVMQ1znGDF8",
        "colab": {
          "base_uri": "https://localhost:8080/"
        },
        "outputId": "d582be89-c407-4d9d-c4e4-db86e1c3e4f2"
      },
      "outputs": [
        {
          "output_type": "stream",
          "name": "stdout",
          "text": [
            "Número:100\n",
            "Quadrado:  10000\n",
            "Cubo:  1000000\n",
            "Raiz Quadrada:  10.0\n",
            "Raiz cúbica:  4.641588833612778\n"
          ]
        }
      ],
      "source": [
        "nu = int(input(\"Número:\"))\n",
        "qu = nu * nu\n",
        "cu = nu * nu * nu\n",
        "ra = nu  ** ( 1 / 2 )  \n",
        "rq = nu  ** ( 1 / 3 )\n",
        "print(\"Quadrado: \", qu)\n",
        "print(\"Cubo: \", cu)\n",
        "print(\"Raiz Quadrada: \", ra)\n",
        "print(\"Raiz cúbica: \", rq)"
      ]
    },
    {
      "cell_type": "markdown",
      "metadata": {
        "id": "wYzxlR2SGDF8"
      },
      "source": [
        "27. Faça um programa que receba dois números maiores que zero, calcule e mostre um elevado ao outro."
      ]
    },
    {
      "cell_type": "code",
      "execution_count": null,
      "metadata": {
        "id": "9xngSXU5GDF8",
        "colab": {
          "base_uri": "https://localhost:8080/"
        },
        "outputId": "abfa3660-00f3-4053-852c-9d0126662752"
      },
      "outputs": [
        {
          "output_type": "stream",
          "name": "stdout",
          "text": [
            "Número 1:5\n",
            "Número 2:5\n",
            "Resultado: 3125\n"
          ]
        }
      ],
      "source": [
        "n1 = int(input(\"Número 1:\"))\n",
        "n2 = int(input(\"Número 2:\"))\n",
        "el = n1 ** n2\n",
        "print(\"Resultado:\", el)"
      ]
    },
    {
      "cell_type": "markdown",
      "metadata": {
        "id": "Fjk85JQ0GDF8"
      },
      "source": [
        "28. Sabe-se que: pé = 12 polegadas; 1 jarda = 3 pés e 1 milha = 1,760 jarda. Faça um programa que receba uma medida em pés, faça as conversões a seguir e mostre os resultados.\n",
        "    1. polegadas;\n",
        "    2. jardas;\n",
        "    3. milhas.\n"
      ]
    },
    {
      "cell_type": "code",
      "execution_count": null,
      "metadata": {
        "id": "3IXmDE4FGDF8",
        "colab": {
          "base_uri": "https://localhost:8080/"
        },
        "outputId": "d704702b-89e8-46aa-b9e8-7ed9ce580a23"
      },
      "outputs": [
        {
          "output_type": "stream",
          "name": "stdout",
          "text": [
            "Medida em pés:2000\n",
            "Polegada:  24000.0\n",
            "Jardas:  666.6666666666666\n",
            "Milhas:  0.0017045454545454545\n"
          ]
        }
      ],
      "source": [
        "me = float(input(\"Medida em pés:\"))\n",
        "po = me * 12\n",
        "ja = me / 3\n",
        "mi = 3 / 1760\n",
        "print(\"Polegada: \", po)\n",
        "print(\"Jardas: \", ja)\n",
        "print(\"Milhas: \", mi)\n"
      ]
    },
    {
      "cell_type": "markdown",
      "metadata": {
        "id": "b0mpE8JKGDF9"
      },
      "source": [
        "29. Escreva um programa que receba como entrada um número de 5 dígitos, separe o número em dígitos individuais e os imprima separados por 3 espaços cada um. Por exemplo, se o usuário digitar 42339, o programa deverá imprimir: 4    2    3    3.   Dica: utilize as operações de divisão e módulo para extrair cada dígito do número."
      ]
    },
    {
      "cell_type": "code",
      "execution_count": null,
      "metadata": {
        "id": "lf578p_QGDF9",
        "colab": {
          "base_uri": "https://localhost:8080/"
        },
        "outputId": "83b12f41-6305-4b1d-b940-114d09454c77"
      },
      "outputs": [
        {
          "output_type": "stream",
          "name": "stdout",
          "text": [
            "Número:5554845\n",
            "The resultant list : [5, 5, 5, 4, 8, 4, 5]\n"
          ]
        }
      ],
      "source": [
        "str1 = str(input(\"Número:\"))\n",
        "# initializing substring\n",
        "A = 1\n",
        "# create a result list\n",
        "result = []\n",
        "for i in range(0, len(str1), A):\n",
        "    # convert to int, after the slicing process\n",
        "    result.append(int(str1[i : i + A]))\n",
        "  \n",
        "print(\"The resultant list : \" + str(result))"
      ]
    }
  ],
  "metadata": {
    "kernelspec": {
      "display_name": "Python 3",
      "language": "python",
      "name": "python3"
    },
    "language_info": {
      "codemirror_mode": {
        "name": "ipython",
        "version": 3
      },
      "file_extension": ".py",
      "mimetype": "text/x-python",
      "name": "python",
      "nbconvert_exporter": "python",
      "pygments_lexer": "ipython3",
      "version": "3.7.4"
    },
    "colab": {
      "provenance": [],
      "collapsed_sections": [],
      "include_colab_link": true
    }
  },
  "nbformat": 4,
  "nbformat_minor": 0
}